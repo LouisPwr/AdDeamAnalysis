{
 "cells": [
  {
   "cell_type": "code",
   "execution_count": null,
   "id": "7ae987eb-61d2-47b4-bfe3-0937097bb2ac",
   "metadata": {},
   "outputs": [],
   "source": [
    "import pandas as pd\n",
    "import numpy as np"
   ]
  },
  {
   "cell_type": "code",
   "execution_count": null,
   "id": "b128d274-9f0f-4576-b3c1-e0231ecfa6a9",
   "metadata": {},
   "outputs": [],
   "source": [
    "def match_and_merge_tsvs(tsv1_path, tsv2_path, output_path='matched_tsv.tsv'):\n",
    "    # Read the TSV files into pandas DataFrames\n",
    "    tsv1 = pd.read_csv(tsv1_path, sep='\\t')\n",
    "    tsv2 = pd.read_csv(tsv2_path, sep='\\t')\n",
    "\n",
    "    # Create new columns in tsv1 for the period, sample source, and UDG treated\n",
    "    tsv1['period'] = None\n",
    "    tsv1['sampleSource'] = None\n",
    "    tsv1['code'] = None\n",
    "    \n",
    "    # Add the 'UDG treated' column based on the presence of \"SG1.1\" in the 'SampleName'\n",
    "    tsv1['UDG treated'] = np.where(tsv1['SampleName'].str.contains('SG1.1', regex=False), 'yes', 'no')\n",
    "\n",
    "    # Iterate over rows of tsv2 to extract samples and their associated period and sample source\n",
    "    for _, row in tsv2.iterrows():\n",
    "        samples = row['samples'].split(';')\n",
    "        period = row['period']\n",
    "        code = row['code']\n",
    "        sample_source = row['sampleSource']\n",
    "        \n",
    "        # Iterate over the samples and check if any are substrings in the 'SampleName' column of tsv1\n",
    "        for sample in samples:\n",
    "            # Find rows in tsv1 where the sample is a substring of 'SampleName'\n",
    "            matches = tsv1['SampleName'].str.contains(sample, regex=False)\n",
    "            # Update 'period' and 'sampleSource' for matched rows\n",
    "            tsv1.loc[matches, 'period'] = period\n",
    "            tsv1.loc[matches, 'code'] = code\n",
    "            tsv1.loc[matches, 'sampleSource'] = sample_source\n",
    "\n",
    "    # Identify the primary cluster for each sample based on the cluster columns\n",
    "    cluster_columns = ['Cluster1', 'Cluster2', 'Cluster3', 'Cluster4']\n",
    "    tsv1['PrimaryCluster'] = tsv1[cluster_columns].idxmax(axis=1)\n",
    "\n",
    "    # Sort by 'PrimaryCluster' and then by 'period' alphabetically within each cluster\n",
    "    tsv1 = tsv1.sort_values(by=['PrimaryCluster', 'period', 'code'])\n",
    "\n",
    "    # Write the updated tsv1 to a new TSV file\n",
    "    tsv1.to_csv(output_path, sep='\\t', index=False)\n",
    "    print(f\"Matched TSV saved to: {output_path}\")\n",
    "\n",
    "    return tsv1\n",
    "\n",
    "# Example usage\n",
    "# match_and_merge_tsvs('path_to_tsv1.tsv', 'path_to_tsv2.tsv', 'output_tsv.tsv')\n"
   ]
  },
  {
   "cell_type": "code",
   "execution_count": null,
   "id": "e43aa9d9-10ba-4c76-9e0b-88455ecebab4",
   "metadata": {},
   "outputs": [],
   "source": [
    "# Example usage\n",
    "match_and_merge_tsvs('/GMM/k4/cluster_report_k4.tsv', \n",
    "                     '/figs/02empiricalGenome/yates_samples.tsv', \n",
    "                     'output_tsv.tsv')"
   ]
  }
 ],
 "metadata": {
  "kernelspec": {
   "display_name": "Python 3 (ipykernel)",
   "language": "python",
   "name": "python3"
  },
  "language_info": {
   "codemirror_mode": {
    "name": "ipython",
    "version": 3
   },
   "file_extension": ".py",
   "mimetype": "text/x-python",
   "name": "python",
   "nbconvert_exporter": "python",
   "pygments_lexer": "ipython3",
   "version": "3.13.2"
  }
 },
 "nbformat": 4,
 "nbformat_minor": 5
}
