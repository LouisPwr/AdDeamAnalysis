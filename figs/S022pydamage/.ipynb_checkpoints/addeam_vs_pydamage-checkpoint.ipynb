{
 "cells": [
  {
   "cell_type": "code",
   "execution_count": null,
   "id": "c02f32f2-90c1-4902-8309-30f9ef643efc",
   "metadata": {},
   "outputs": [],
   "source": [
    "#pip install UpSetPlot"
   ]
  },
  {
   "cell_type": "code",
   "execution_count": null,
   "id": "230b3ec4-c266-402b-8e0d-34e73f353e59",
   "metadata": {},
   "outputs": [],
   "source": [
    "import pandas as pd\n",
    "from matplotlib import pyplot as plt\n",
    "import numpy as np\n",
    "from upsetplot import from_contents, UpSet"
   ]
  },
  {
   "cell_type": "code",
   "execution_count": null,
   "id": "5bec63a5-5d83-483a-a062-2186ac4f5c01",
   "metadata": {},
   "outputs": [],
   "source": [
    "addeam_path = \"/data/S02emp_pydamage/addeamOutput/GMM/k3/cluster_report_k3.tsv\"\n",
    "addeam_outsourced_path = \"/data/S02emp_pydamage/outsourced.txt\""
   ]
  },
  {
   "cell_type": "code",
   "execution_count": null,
   "id": "2003df21-f761-465c-936f-fcf8b7335ec1",
   "metadata": {},
   "outputs": [],
   "source": [
    "pydam_path=\"/pydamageBench/pydamage_results/pydamage_results.csv\""
   ]
  },
  {
   "cell_type": "markdown",
   "id": "9347dc68-15f2-4208-baaa-6f442d2e9d74",
   "metadata": {},
   "source": [
    "## Load Pydamage"
   ]
  },
  {
   "cell_type": "code",
   "execution_count": null,
   "id": "bc76b7b5-f7cc-4268-93c5-d8a68894cef2",
   "metadata": {},
   "outputs": [],
   "source": [
    "df_pydam_all=pd.read_csv(pydam_path,sep=\",\")"
   ]
  },
  {
   "cell_type": "code",
   "execution_count": null,
   "id": "bad3c12d-2ec6-411f-917f-4f0197072247",
   "metadata": {},
   "outputs": [],
   "source": [
    "len(df_pydam_all)"
   ]
  },
  {
   "cell_type": "code",
   "execution_count": null,
   "id": "e77f0113-7550-4325-b31a-2eba841be5d3",
   "metadata": {},
   "outputs": [],
   "source": [
    "df_pydam = df_pydam_all[(df_pydam_all[\"qvalue\"] > 0.05) & (df_pydam_all[\"predicted_accuracy\"] < 0.5)]"
   ]
  },
  {
   "cell_type": "code",
   "execution_count": null,
   "id": "3aa693d2-85aa-4482-8dd0-0b966498ba2e",
   "metadata": {},
   "outputs": [],
   "source": [
    "df_pydam_ancient = df_pydam_all[(df_pydam_all[\"qvalue\"] <= 0.05) | (df_pydam_all[\"predicted_accuracy\"] >= 0.5)]"
   ]
  },
  {
   "cell_type": "code",
   "execution_count": null,
   "id": "f5a96bc4-ae28-4148-8e87-cc0917cbd9c5",
   "metadata": {
    "scrolled": true
   },
   "outputs": [],
   "source": [
    "len(df_pydam)"
   ]
  },
  {
   "cell_type": "code",
   "execution_count": null,
   "id": "d06c22bb-fae1-4026-bc99-f769fc3bdb96",
   "metadata": {},
   "outputs": [],
   "source": [
    "len(df_pydam_ancient)"
   ]
  },
  {
   "cell_type": "markdown",
   "id": "503b728b-aa20-4ac0-bbea-688c175b6219",
   "metadata": {},
   "source": [
    "## Load Addeam"
   ]
  },
  {
   "cell_type": "code",
   "execution_count": null,
   "id": "b7d51e21-edea-4b23-b012-42890d73f935",
   "metadata": {},
   "outputs": [],
   "source": [
    "df_addeam=pd.read_csv(addeam_path, sep='\\t', dtype={'SampleName': str})"
   ]
  },
  {
   "cell_type": "code",
   "execution_count": null,
   "id": "32ee982f-df0a-46df-a5f4-55e4f5fbeddc",
   "metadata": {},
   "outputs": [],
   "source": [
    "cluster_col=\"Cluster1\"\n",
    "others = [c for c in ('Cluster1','Cluster2','Cluster3') if c != cluster_col]\n",
    "df_addeam_col1 = df_addeam[(df_addeam[cluster_col] > df_addeam[others[0]]) & (df_addeam[cluster_col] > df_addeam[others[1]])]"
   ]
  },
  {
   "cell_type": "code",
   "execution_count": null,
   "id": "2d820af2-ee1f-4a2e-b0d8-2221ded81a2a",
   "metadata": {},
   "outputs": [],
   "source": [
    "df_addeam_col1[\"SampleShort\"] = (\n",
    "    df_addeam_col1[\"SampleName\"].str.split(\"md_\", n=1).str[1].str.split(\"_n\", n=1).str[0]\n",
    ")"
   ]
  },
  {
   "cell_type": "code",
   "execution_count": null,
   "id": "8e967707-c2cb-4534-a8df-292014be2c8f",
   "metadata": {},
   "outputs": [],
   "source": [
    "cluster_col=\"Cluster2\"\n",
    "others = [c for c in ('Cluster1','Cluster2','Cluster3') if c != cluster_col]\n",
    "df_addeam_col2 = df_addeam[(df_addeam[cluster_col] > df_addeam[others[0]]) & (df_addeam[cluster_col] > df_addeam[others[1]])]"
   ]
  },
  {
   "cell_type": "code",
   "execution_count": null,
   "id": "855a9c29-f57c-4b12-8b67-85cd664bb33b",
   "metadata": {},
   "outputs": [],
   "source": [
    "df_addeam_col2[\"SampleShort\"] = (\n",
    "    df_addeam_col2[\"SampleName\"].str.split(\"md_\", n=1).str[1].str.split(\"_n\", n=1).str[0]\n",
    ")"
   ]
  },
  {
   "cell_type": "code",
   "execution_count": null,
   "id": "8d4fa565-d5c7-4e17-9603-db6255a3a8a8",
   "metadata": {},
   "outputs": [],
   "source": [
    "cluster_col=\"Cluster3\"\n",
    "others = [c for c in ('Cluster1','Cluster2','Cluster3') if c != cluster_col]\n",
    "df_addeam_col3 = df_addeam[(df_addeam[cluster_col] > df_addeam[others[0]]) & (df_addeam[cluster_col] > df_addeam[others[1]])]"
   ]
  },
  {
   "cell_type": "code",
   "execution_count": null,
   "id": "fcabd6ff-a91e-4ee8-a567-283dbd780eab",
   "metadata": {},
   "outputs": [],
   "source": [
    "df_addeam_col3[\"SampleShort\"] = (\n",
    "    df_addeam_col3[\"SampleName\"].str.split(\"md_\", n=1).str[1].str.split(\"_n\", n=1).str[0]\n",
    ")"
   ]
  },
  {
   "cell_type": "markdown",
   "id": "15d5480f-3a58-4f9e-ba54-028f954e2c2a",
   "metadata": {},
   "source": [
    "## Load Addeam Outsourced"
   ]
  },
  {
   "cell_type": "code",
   "execution_count": null,
   "id": "d42c1a2e-4080-45a3-a716-7de9a9a72c7d",
   "metadata": {},
   "outputs": [],
   "source": [
    "df_addeam_out=pd.read_csv(addeam_outsourced_path, sep='\\t')"
   ]
  },
  {
   "cell_type": "code",
   "execution_count": null,
   "id": "3b27cfe3-3532-4e45-9355-5f4b6482bd09",
   "metadata": {},
   "outputs": [],
   "source": [
    "df_addeam_out[\"SampleShort\"] = (\n",
    "    df_addeam_out[\"SampleName\"].str.split(\"md_\", n=1).str[1].str.split(\"_n\", n=1).str[0]\n",
    ")"
   ]
  },
  {
   "cell_type": "markdown",
   "id": "1fd3233c-73bb-467e-82c5-de0880411c49",
   "metadata": {},
   "source": [
    "## Create Sets"
   ]
  },
  {
   "cell_type": "code",
   "execution_count": null,
   "id": "1aec5019-e682-4692-8711-2d34a9a268ea",
   "metadata": {},
   "outputs": [],
   "source": [
    "addeam1_set = set(df_addeam_col1[\"SampleShort\"].values.tolist())"
   ]
  },
  {
   "cell_type": "code",
   "execution_count": null,
   "id": "741b829c-26a5-480e-959d-53e8c63cc26c",
   "metadata": {},
   "outputs": [],
   "source": [
    "addeam2_set = set(df_addeam_col2[\"SampleShort\"].values.tolist())"
   ]
  },
  {
   "cell_type": "code",
   "execution_count": null,
   "id": "57acc082-1b2f-45fb-b62f-b1f27170b794",
   "metadata": {},
   "outputs": [],
   "source": [
    "addeam3_set = set(df_addeam_col3[\"SampleShort\"].values.tolist())"
   ]
  },
  {
   "cell_type": "code",
   "execution_count": null,
   "id": "a9b2cace-64f2-4b6e-b8c5-bc17c41b73c8",
   "metadata": {},
   "outputs": [],
   "source": [
    "addeam_out_set = set(df_addeam_out[\"SampleShort\"].values.tolist())"
   ]
  },
  {
   "cell_type": "code",
   "execution_count": null,
   "id": "fb506e41-4b3b-4ae9-b893-5e9cdad81b85",
   "metadata": {},
   "outputs": [],
   "source": [
    "pydam_set = set(df_pydam[\"reference\"].values.tolist())"
   ]
  },
  {
   "cell_type": "code",
   "execution_count": null,
   "id": "462cfaa3-bb44-4851-aa0c-735dde21a814",
   "metadata": {},
   "outputs": [],
   "source": [
    "pydam_ancient_set = set(df_pydam_ancient[\"reference\"].values.tolist())"
   ]
  },
  {
   "cell_type": "code",
   "execution_count": null,
   "id": "f0a4dc4e-7128-437b-a1c9-ec9962d765cc",
   "metadata": {},
   "outputs": [],
   "source": [
    "df_addeam[\"SampleShort\"] = (\n",
    "    df_addeam[\"SampleName\"].str.split(\"md_\", n=1).str[1].str.split(\"_n\", n=1).str[0]\n",
    ")"
   ]
  },
  {
   "cell_type": "markdown",
   "id": "ac791faa-7f6f-489b-97d7-9025c296b92a",
   "metadata": {},
   "source": [
    "# Upset Plots"
   ]
  },
  {
   "cell_type": "code",
   "execution_count": null,
   "id": "ea0fbdf1-d8cf-405d-8d2f-77fbf0728eac",
   "metadata": {},
   "outputs": [],
   "source": [
    "# 1) Collect your six sets into a dict\n",
    "sets = {\n",
    "    'AdDeam Cluster 1'            : addeam1_set,\n",
    "    'AdDeam Cluster 2'            : addeam2_set,\n",
    "    'AdDeam Cluster 3'            : addeam3_set,\n",
    "    'AdDeam Not Converged'  : addeam_out_set,\n",
    "    'PyDamage Not Ancient'  : pydam_set,\n",
    "    'PyDamage Ancient'      : pydam_ancient_set,\n",
    "}\n",
    "\n",
    "# 2) Convert to the binary‐indicator DataFrame\n",
    "data = from_contents(sets)\n",
    "\n",
    "# 3) Create the UpSet object\n",
    "up = UpSet(\n",
    "    data,\n",
    "    subset_size='count',   # show raw counts\n",
    "    show_counts=True,\n",
    "    sort_by='degree',      # order intersections by size\n",
    "    element_size=None      # auto‐scale dot sizes\n",
    ")\n",
    "\n",
    "# 4) Plot with high‐res figure\n",
    "fig = plt.figure(figsize=(10, 6), dpi=300)\n",
    "up.plot(fig=fig)\n",
    "\n",
    "#plt.suptitle('UpSet Plot of Damage/Cluster Sets', y=1.02)\n",
    "plt.tight_layout()\n",
    "plt.savefig('upset_damage_clusters.svg', format='svg', bbox_inches='tight')\n",
    "plt.show()\n"
   ]
  }
 ],
 "metadata": {
  "kernelspec": {
   "display_name": "Python 3 (ipykernel)",
   "language": "python",
   "name": "python3"
  },
  "language_info": {
   "codemirror_mode": {
    "name": "ipython",
    "version": 3
   },
   "file_extension": ".py",
   "mimetype": "text/x-python",
   "name": "python",
   "nbconvert_exporter": "python",
   "pygments_lexer": "ipython3",
   "version": "3.13.2"
  }
 },
 "nbformat": 4,
 "nbformat_minor": 5
}
