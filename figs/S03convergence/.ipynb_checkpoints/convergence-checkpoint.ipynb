{
 "cells": [
  {
   "cell_type": "code",
   "execution_count": null,
   "id": "88fc5277-5dcc-4d9f-a443-9b2cf0666491",
   "metadata": {},
   "outputs": [],
   "source": [
    "import pandas as pd\n",
    "import matplotlib.pyplot as plt"
   ]
  },
  {
   "cell_type": "code",
   "execution_count": null,
   "id": "5372cd6c-e072-4a97-bdec-6ec43cb7a66c",
   "metadata": {},
   "outputs": [],
   "source": [
    "hits_path = \"/data/Skoglund2014/skoglund_mapped/renamed/hits.log\""
   ]
  },
  {
   "cell_type": "code",
   "execution_count": null,
   "id": "99d43aa6-55cc-4435-9766-955ae6907434",
   "metadata": {},
   "outputs": [],
   "source": [
    "# 1. Read in the tab-delimited log file (adjust filename if different)\n",
    "column_names = [\n",
    "    'processed',  # fragments processed\n",
    "    'seq_len',\n",
    "    'max_l',\n",
    "    'l',          # position of aDNA read\n",
    "    'i',          # substitution type index (7 = C>T)\n",
    "    'lsize',\n",
    "    'diff5p',     # C>T substitution frequency difference\n",
    "    'diff3p'\n",
    "]\n",
    "df = pd.read_csv(hits_path, sep='\\t', header=None, names=column_names)"
   ]
  },
  {
   "cell_type": "code",
   "execution_count": null,
   "id": "5f145dd5-d763-4fc7-afa7-afeef5fc0662",
   "metadata": {},
   "outputs": [],
   "source": [
    "df = df.iloc[0:100000]"
   ]
  },
  {
   "cell_type": "code",
   "execution_count": null,
   "id": "2c54d8be-ad6f-4bf6-9f09-1e6d2e33e0d8",
   "metadata": {},
   "outputs": [],
   "source": [
    "# 2. Filter to only C>T (i == 7) and positions 0–4\n",
    "df_ct = df[(df['i'] == 7) & (df['l'].isin(range(5)))]\n",
    "\n",
    "# 3. Plot convergence curves with a logarithmic x-axis\n",
    "plt.figure()\n",
    "for pos in sorted(df_ct['l'].unique()):\n",
    "    subset = df_ct[df_ct['l'] == pos]\n",
    "    plt.plot(\n",
    "        subset['processed'],\n",
    "        subset['diff5p'],\n",
    "        label=f'{int(pos) }'\n",
    "    )\n",
    "\n",
    "plt.xscale('log')\n",
    "plt.xlabel('Fragments Processed (log scale)')\n",
    "plt.ylabel('Difference of C>T Substitution Frequency\\nper 500 Analysed Fragments')\n",
    "plt.title('Convergence of Substitution Frequency by Position\\nAncient Human Sample; 5,000BP; ~1.33X Cov; Skoglund, 2014')\n",
    "plt.legend(title='Fragment Position')\n",
    "plt.tight_layout()\n",
    "plt.savefig('convergence_high.svg', format='svg', bbox_inches='tight')\n",
    "plt.show()"
   ]
  },
  {
   "cell_type": "code",
   "execution_count": null,
   "id": "3ee31b97-8368-4218-a0f4-e7e20849e77b",
   "metadata": {},
   "outputs": [],
   "source": [
    "hits_path=\"/02emp/bams/hits_low_meta.log\""
   ]
  },
  {
   "cell_type": "code",
   "execution_count": null,
   "id": "4b817adc-72be-475e-99ae-ad939a757a31",
   "metadata": {},
   "outputs": [],
   "source": [
    "# 1. Read in the tab-delimited log file (adjust filename if different)\n",
    "column_names = [\n",
    "    'processed',  # fragments processed\n",
    "    'seq_len',\n",
    "    'max_l',\n",
    "    'l',          # position of aDNA read\n",
    "    'i',          # substitution type index (7 = C>T)\n",
    "    'lsize',\n",
    "    'diff5p',     # C>T substitution frequency difference\n",
    "    'diff3p'\n",
    "]\n",
    "df = pd.read_csv(hits_path, sep='\\t', header=None, names=column_names)"
   ]
  },
  {
   "cell_type": "code",
   "execution_count": null,
   "id": "0179b8f9-0785-4480-98c8-0f77eeaa04a4",
   "metadata": {
    "scrolled": true
   },
   "outputs": [],
   "source": [
    "df"
   ]
  },
  {
   "cell_type": "code",
   "execution_count": null,
   "id": "713dbc77-ef90-4df4-a13b-ad89a6bf4471",
   "metadata": {},
   "outputs": [],
   "source": [
    "df = df.iloc[0:500]"
   ]
  },
  {
   "cell_type": "code",
   "execution_count": null,
   "id": "1ed4f9e4-c424-4cd8-9209-c2e89f726316",
   "metadata": {},
   "outputs": [],
   "source": [
    "# 2. Filter to only C>T (i == 7) and positions 0–4\n",
    "df_ct = df[(df['i'] == 7) & (df['l'].isin(range(5)))]\n",
    "\n",
    "# 3. Plot convergence curves with a logarithmic x-axis\n",
    "plt.figure()\n",
    "for pos in sorted(df_ct['l'].unique()):\n",
    "    subset = df_ct[df_ct['l'] == pos]\n",
    "    plt.plot(\n",
    "        subset['processed'],\n",
    "        subset['diff5p'],\n",
    "        label=f'{int(pos) }'\n",
    "    )\n",
    "\n",
    "plt.xscale('log')\n",
    "plt.xlabel('Fragments Processed (log scale)')\n",
    "plt.ylabel('Difference of C>T Substitution Frequency\\nper 500 Analysed Fragments')\n",
    "plt.title('Convergence of Substitution Frequency by Position\\n$\\it{Tannerella}$ $\\it{forsythia}$ from Dental Calculus\\n \\\n",
    "Later Stone Age; <1X Cov; Fellows-Yates, 2021')\n",
    "plt.legend(title='Fragment Position')\n",
    "plt.tight_layout()\n",
    "plt.savefig('convergence_low.svg', format='svg', bbox_inches='tight')\n",
    "plt.show()"
   ]
  }
 ],
 "metadata": {
  "kernelspec": {
   "display_name": "Python 3 (ipykernel)",
   "language": "python",
   "name": "python3"
  },
  "language_info": {
   "codemirror_mode": {
    "name": "ipython",
    "version": 3
   },
   "file_extension": ".py",
   "mimetype": "text/x-python",
   "name": "python",
   "nbconvert_exporter": "python",
   "pygments_lexer": "ipython3",
   "version": "3.13.2"
  }
 },
 "nbformat": 4,
 "nbformat_minor": 5
}
